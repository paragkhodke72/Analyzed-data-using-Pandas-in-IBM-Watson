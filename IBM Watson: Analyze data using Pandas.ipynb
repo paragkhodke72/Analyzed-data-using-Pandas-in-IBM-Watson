{
    "cells": [
        {
            "metadata": {},
            "cell_type": "markdown",
            "source": "Descriptions:\n\nWorking with CVS files to analyzed using Pandas in IBM watson studio"
        },
        {
            "metadata": {},
            "cell_type": "code",
            "source": "",
            "execution_count": null,
            "outputs": []
        },
        {
            "metadata": {},
            "cell_type": "code",
            "source": "\nimport types\nimport pandas as pd\nfrom botocore.client import Config\nimport ibm_boto3\n\ndef __iter__(self): return 0\n\n# @hidden_cell\n# The following code accesses a file in your IBM Cloud Object Storage. It includes your credentials.\n# You might want to remove those credentials before you share the notebook.\nclient_c2748b18361a4fed82b5d90393d7e675 = ibm_boto3.client(service_name='s3',\n    ibm_api_key_id='hRjEzcyv-QWQGUsIccjGG-rxLpc4ekYs90STKxVTYAct',\n    ibm_auth_endpoint=\"https://iam.cloud.ibm.com/oidc/token\",\n    config=Config(signature_version='oauth'),\n    endpoint_url='https://s3-api.us-geo.objectstorage.service.networklayer.com')\n\nbody = client_c2748b18361a4fed82b5d90393d7e675.get_object(Bucket='demoproject-donotdelete-pr-ltlhpwvamcyido',Key='MOCK_DATA.csv')['Body']\n# add missing __iter__ method, so pandas accepts body as file-like object\nif not hasattr(body, \"__iter__\"): body.__iter__ = types.MethodType( __iter__, body )\n\ndf_data_1 = pd.read_csv(body)\ndf_data_1.head()\n",
            "execution_count": 2,
            "outputs": [
                {
                    "output_type": "execute_result",
                    "execution_count": 2,
                    "data": {
                        "text/plain": "   id first_name last_name                  email  gender      ip_address\n0   1     Sascha   McLaine     smclaine0@phoca.cz  Female   201.144.84.74\n1   2      Jemmy     Leggs     jleggs1@nsw.gov.au  Female   166.9.233.250\n2   3      Yulma   Souttar       ysouttar2@hp.com    Male  217.169.70.176\n3   4       Gael    Revens    grevens3@google.com    Male  240.44.131.117\n4   5     Aguste   Liptrot  aliptrot4@shop-pro.jp    Male  202.172.29.170",
                        "text/html": "<div>\n<style scoped>\n    .dataframe tbody tr th:only-of-type {\n        vertical-align: middle;\n    }\n\n    .dataframe tbody tr th {\n        vertical-align: top;\n    }\n\n    .dataframe thead th {\n        text-align: right;\n    }\n</style>\n<table border=\"1\" class=\"dataframe\">\n  <thead>\n    <tr style=\"text-align: right;\">\n      <th></th>\n      <th>id</th>\n      <th>first_name</th>\n      <th>last_name</th>\n      <th>email</th>\n      <th>gender</th>\n      <th>ip_address</th>\n    </tr>\n  </thead>\n  <tbody>\n    <tr>\n      <th>0</th>\n      <td>1</td>\n      <td>Sascha</td>\n      <td>McLaine</td>\n      <td>smclaine0@phoca.cz</td>\n      <td>Female</td>\n      <td>201.144.84.74</td>\n    </tr>\n    <tr>\n      <th>1</th>\n      <td>2</td>\n      <td>Jemmy</td>\n      <td>Leggs</td>\n      <td>jleggs1@nsw.gov.au</td>\n      <td>Female</td>\n      <td>166.9.233.250</td>\n    </tr>\n    <tr>\n      <th>2</th>\n      <td>3</td>\n      <td>Yulma</td>\n      <td>Souttar</td>\n      <td>ysouttar2@hp.com</td>\n      <td>Male</td>\n      <td>217.169.70.176</td>\n    </tr>\n    <tr>\n      <th>3</th>\n      <td>4</td>\n      <td>Gael</td>\n      <td>Revens</td>\n      <td>grevens3@google.com</td>\n      <td>Male</td>\n      <td>240.44.131.117</td>\n    </tr>\n    <tr>\n      <th>4</th>\n      <td>5</td>\n      <td>Aguste</td>\n      <td>Liptrot</td>\n      <td>aliptrot4@shop-pro.jp</td>\n      <td>Male</td>\n      <td>202.172.29.170</td>\n    </tr>\n  </tbody>\n</table>\n</div>"
                    },
                    "metadata": {}
                }
            ]
        },
        {
            "metadata": {},
            "cell_type": "code",
            "source": "",
            "execution_count": null,
            "outputs": []
        }
    ],
    "metadata": {
        "kernelspec": {
            "name": "python3",
            "display_name": "Python 3.6",
            "language": "python"
        },
        "language_info": {
            "name": "python",
            "version": "3.6.9",
            "mimetype": "text/x-python",
            "codemirror_mode": {
                "name": "ipython",
                "version": 3
            },
            "pygments_lexer": "ipython3",
            "nbconvert_exporter": "python",
            "file_extension": ".py"
        }
    },
    "nbformat": 4,
    "nbformat_minor": 1
}