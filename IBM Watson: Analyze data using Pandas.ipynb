{
    "cells": [
        {
            "cell_type": "markdown",
            "metadata": {},
            "source": "Descriptions:\n\nWorking with CVS files to analyzed using Pandas in IBM watson studio"
        },
        {
            "cell_type": "code",
            "execution_count": null,
            "metadata": {},
            "outputs": [],
            "source": ""
        },
        {
            "cell_type": "code",
            "execution_count": 2,
            "metadata": {},
            "outputs": [
                {
                    "data": {
                        "text/html": "<div>\n<style scoped>\n    .dataframe tbody tr th:only-of-type {\n        vertical-align: middle;\n    }\n\n    .dataframe tbody tr th {\n        vertical-align: top;\n    }\n\n    .dataframe thead th {\n        text-align: right;\n    }\n</style>\n<table border=\"1\" class=\"dataframe\">\n  <thead>\n    <tr style=\"text-align: right;\">\n      <th></th>\n      <th>id</th>\n      <th>first_name</th>\n      <th>last_name</th>\n      <th>email</th>\n      <th>gender</th>\n      <th>ip_address</th>\n    </tr>\n  </thead>\n  <tbody>\n    <tr>\n      <th>0</th>\n      <td>1</td>\n      <td>Sascha</td>\n      <td>McLaine</td>\n      <td>smclaine0@phoca.cz</td>\n      <td>Female</td>\n      <td>201.144.84.74</td>\n    </tr>\n    <tr>\n      <th>1</th>\n      <td>2</td>\n      <td>Jemmy</td>\n      <td>Leggs</td>\n      <td>jleggs1@nsw.gov.au</td>\n      <td>Female</td>\n      <td>166.9.233.250</td>\n    </tr>\n    <tr>\n      <th>2</th>\n      <td>3</td>\n      <td>Yulma</td>\n      <td>Souttar</td>\n      <td>ysouttar2@hp.com</td>\n      <td>Male</td>\n      <td>217.169.70.176</td>\n    </tr>\n    <tr>\n      <th>3</th>\n      <td>4</td>\n      <td>Gael</td>\n      <td>Revens</td>\n      <td>grevens3@google.com</td>\n      <td>Male</td>\n      <td>240.44.131.117</td>\n    </tr>\n    <tr>\n      <th>4</th>\n      <td>5</td>\n      <td>Aguste</td>\n      <td>Liptrot</td>\n      <td>aliptrot4@shop-pro.jp</td>\n      <td>Male</td>\n      <td>202.172.29.170</td>\n    </tr>\n  </tbody>\n</table>\n</div>",
                        "text/plain": "   id first_name last_name                  email  gender      ip_address\n0   1     Sascha   McLaine     smclaine0@phoca.cz  Female   201.144.84.74\n1   2      Jemmy     Leggs     jleggs1@nsw.gov.au  Female   166.9.233.250\n2   3      Yulma   Souttar       ysouttar2@hp.com    Male  217.169.70.176\n3   4       Gael    Revens    grevens3@google.com    Male  240.44.131.117\n4   5     Aguste   Liptrot  aliptrot4@shop-pro.jp    Male  202.172.29.170"
                    },
                    "execution_count": 2,
                    "metadata": {},
                    "output_type": "execute_result"
                }
            ],
            "source": "# The code was removed by Watson Studio for sharing."
        },
        {
            "cell_type": "code",
            "execution_count": null,
            "metadata": {},
            "outputs": [],
            "source": ""
        }
    ],
    "metadata": {
        "kernelspec": {
            "display_name": "Python 3.6",
            "language": "python",
            "name": "python3"
        },
        "language_info": {
            "codemirror_mode": {
                "name": "ipython",
                "version": 3
            },
            "file_extension": ".py",
            "mimetype": "text/x-python",
            "name": "python",
            "nbconvert_exporter": "python",
            "pygments_lexer": "ipython3",
            "version": "3.6.9"
        }
    },
    "nbformat": 4,
    "nbformat_minor": 1
}